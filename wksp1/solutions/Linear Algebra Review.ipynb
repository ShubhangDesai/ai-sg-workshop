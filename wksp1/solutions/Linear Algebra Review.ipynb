{
 "cells": [
  {
   "cell_type": "markdown",
   "metadata": {},
   "source": [
    "# Linear Algebra / NumPy Review\n",
    "\n",
    "Before we learn about how we can apply neural networks to predict breast cancer, we should review the necessary linear algebra. This notebook will teach you how to use NumPy for basic linear algrebra and data manipulations. First, import the required modules:"
   ]
  },
  {
   "cell_type": "code",
   "execution_count": 2,
   "metadata": {
    "collapsed": true
   },
   "outputs": [],
   "source": [
    "import numpy as np\n",
    "import math"
   ]
  },
  {
   "cell_type": "markdown",
   "metadata": {},
   "source": [
    "## NumPy Warmup\n",
    "\n",
    "We can use np.array to represent matrices in NumPy as follows:"
   ]
  },
  {
   "cell_type": "code",
   "execution_count": 27,
   "metadata": {},
   "outputs": [
    {
     "name": "stdout",
     "output_type": "stream",
     "text": [
      "[[ 1  2  3  4  5]\n",
      " [ 6  7  8  9 10]\n",
      " [11 12 13 14 15]]\n"
     ]
    }
   ],
   "source": [
    "mat = np.array([[1, 2, 3, 4, 5], [6, 7, 8, 9, 10], [11, 12, 13, 14, 15]])\n",
    "print(mat)"
   ]
  },
  {
   "cell_type": "markdown",
   "metadata": {},
   "source": [
    "This is a 3x5 matrix. How can we get only the first two rows of this matrix? Use NumPy's slice syntax to print out only the first two rows."
   ]
  },
  {
   "cell_type": "code",
   "execution_count": 25,
   "metadata": {},
   "outputs": [
    {
     "name": "stdout",
     "output_type": "stream",
     "text": [
      "[[ 1  2  3  4  5]\n",
      " [ 6  7  8  9 10]]\n"
     ]
    }
   ],
   "source": [
    "print(mat[:2])"
   ]
  },
  {
   "cell_type": "markdown",
   "metadata": {},
   "source": [
    "How can we produce a 3x3 matrix that gets the first 3 elements of each row from mat? Use NumPy's slice syntax to reproduce the output shown."
   ]
  },
  {
   "cell_type": "code",
   "execution_count": 28,
   "metadata": {},
   "outputs": [
    {
     "name": "stdout",
     "output_type": "stream",
     "text": [
      "[[ 1  2  3]\n",
      " [ 6  7  8]\n",
      " [11 12 13]]\n"
     ]
    }
   ],
   "source": [
    "print(mat[:, :3])"
   ]
  },
  {
   "cell_type": "markdown",
   "metadata": {},
   "source": [
    "Challenge: How can we produce a 3x2 matrix for which each row contains just the 1st and 3rd elements of the original matrix? Use NumPy's advanced slice syntax to reproduce the output shown."
   ]
  },
  {
   "cell_type": "code",
   "execution_count": 32,
   "metadata": {},
   "outputs": [
    {
     "name": "stdout",
     "output_type": "stream",
     "text": [
      "[[ 1  3]\n",
      " [ 6  8]\n",
      " [11 13]]\n"
     ]
    }
   ],
   "source": [
    "print(mat[:, [0, 2]])"
   ]
  },
  {
   "cell_type": "markdown",
   "metadata": {},
   "source": [
    "## Matrix Multiplication"
   ]
  },
  {
   "cell_type": "markdown",
   "metadata": {},
   "source": [
    "The key operation a neural network does on its input is a series of matrix multiplications. For fully-connected neural networks like the ones we will be working with today, these matrix multiplications are just matrix-vector products.\n",
    "\n",
    "That is, an input vector is multiplied by a matrix (representing the weights of the neural network) to produce another vector, and this vector is multiplied by another matrix to produce another vector, and this continues until the final vector, which is the output of the neural network. Here's an example of matrix-vector multiplication using NumPy:"
   ]
  },
  {
   "cell_type": "code",
   "execution_count": 35,
   "metadata": {},
   "outputs": [
    {
     "name": "stdout",
     "output_type": "stream",
     "text": [
      "Input: [1 2 3] \n",
      "\n",
      "Weights:\n",
      " [[ 1 -4  5]\n",
      " [-7  2  2]\n",
      " [ 3 -5  1]] \n",
      "\n",
      "Result: [ -4 -15  12]\n"
     ]
    }
   ],
   "source": [
    "input_vector = np.array([1, 2, 3])\n",
    "weights_matrix = np.array([[1, -4, 5], [-7, 2, 2], [3, -5, 1]])\n",
    "\n",
    "\n",
    "print(\"Input:\", input_vector, \"\\n\")\n",
    "print(\"Weights:\\n\", weights_matrix, \"\\n\")\n",
    "\n",
    "result = np.matmul(input_vector, weights_matrix)\n",
    "\n",
    "print(\"Result:\", result)"
   ]
  },
  {
   "cell_type": "markdown",
   "metadata": {},
   "source": [
    "This is a simplified neural network that takes in an input of size 1x3 and outputs one of size 1x3. What happens if we change the dimension of the weights matrix to 3x2? Try changing the above code so it produces the below output. Hint: use slicing to produce a new weights_matrix."
   ]
  },
  {
   "cell_type": "code",
   "execution_count": 34,
   "metadata": {},
   "outputs": [
    {
     "name": "stdout",
     "output_type": "stream",
     "text": [
      "Input: [1 2 3] \n",
      "\n",
      "Weights:\n",
      " [[ 1 -4]\n",
      " [-7  2]\n",
      " [ 3 -5]] \n",
      "\n",
      "Result: [ -4 -15]\n",
      "(2, 3)\n"
     ]
    }
   ],
   "source": [
    "input_vector = np.array([1, 2, 3])\n",
    "sliced_weights_matrix = weights_matrix[:, :2]\n",
    "\n",
    "\n",
    "print(\"Input:\", input_vector, \"\\n\")\n",
    "print(\"Weights:\\n\", sliced_weights_matrix, \"\\n\")\n",
    "\n",
    "result = np.matmul(input_vector, sliced_weights_matrix)\n",
    "\n",
    "print(\"Result:\", result)\n",
    "\n",
    "print(np.array([[1, 2, 3], [4, 5, 6]]).shape)"
   ]
  },
  {
   "cell_type": "markdown",
   "metadata": {},
   "source": [
    "We changed the shape of the outputs! This is because we did matrix multiplication using 1x3 and 3x2 matrices, which gives us a resulting matrix of size 1x2. Manipulating the shape of our weight matrices is how we will change the number of neurons in each layer of our neural network."
   ]
  }
 ],
 "metadata": {
  "kernelspec": {
   "display_name": "Python 3",
   "language": "python",
   "name": "python3"
  },
  "language_info": {
   "codemirror_mode": {
    "name": "ipython",
    "version": 3
   },
   "file_extension": ".py",
   "mimetype": "text/x-python",
   "name": "python",
   "nbconvert_exporter": "python",
   "pygments_lexer": "ipython3",
   "version": "3.6.2"
  }
 },
 "nbformat": 4,
 "nbformat_minor": 2
}
